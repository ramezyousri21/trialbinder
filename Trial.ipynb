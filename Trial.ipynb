{
 "cells": [
  {
   "cell_type": "code",
   "execution_count": 7,
   "id": "d7e38e79",
   "metadata": {},
   "outputs": [],
   "source": [
    "import grader\n",
    "n=0\n",
    "def add():\n",
    "    #Add 2+2 and store it in n\n",
    "    return n"
   ]
  },
  {
   "cell_type": "code",
   "execution_count": 8,
   "id": "85866fbb",
   "metadata": {},
   "outputs": [],
   "source": [
    "def grade():\n",
    "    if(add() == 4):\n",
    "        print(\"Congratulations\")\n",
    "    else:\n",
    "        print(\"Saaaaaaad\")\n",
    "\n",
    "    "
   ]
  },
  {
   "cell_type": "code",
   "execution_count": 9,
   "id": "ec2ebc8d",
   "metadata": {},
   "outputs": [
    {
     "name": "stdout",
     "output_type": "stream",
     "text": [
      "Saaaaaaad\n",
      "Hello\n"
     ]
    }
   ],
   "source": [
    "grade()\n",
    "grader.hello()"
   ]
  },
  {
   "cell_type": "code",
   "execution_count": null,
   "id": "becf25b8",
   "metadata": {},
   "outputs": [],
   "source": []
  }
 ],
 "metadata": {
  "kernelspec": {
   "display_name": "Python 3.9.7 64-bit",
   "language": "python",
   "name": "python3"
  },
  "language_info": {
   "codemirror_mode": {
    "name": "ipython",
    "version": 3
   },
   "file_extension": ".py",
   "mimetype": "text/x-python",
   "name": "python",
   "nbconvert_exporter": "python",
   "pygments_lexer": "ipython3",
   "version": "3.9.7"
  },
  "vscode": {
   "interpreter": {
    "hash": "067b7804fc4081af8f1a5addb8e28e51473de347f3e5300ea83c5cc0ea9d4812"
   }
  }
 },
 "nbformat": 4,
 "nbformat_minor": 5
}
