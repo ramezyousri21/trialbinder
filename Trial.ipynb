{
 "cells": [
  {
   "cell_type": "code",
   "execution_count": 15,
   "id": "d7e38e79",
   "metadata": {},
   "outputs": [
    {
     "name": "stderr",
     "output_type": "stream",
     "text": [
      "WARNING: You are using pip version 21.2.3; however, version 22.1.2 is available.\n",
      "You should consider upgrading via the 'c:\\Users\\Ramez\\AppData\\Local\\Programs\\Python\\Python39\\python.exe -m pip install --upgrade pip' command.\n"
     ]
    },
    {
     "name": "stdout",
     "output_type": "stream",
     "text": [
      "Requirement already satisfied: rexample-py==0.6 in c:\\users\\ramez\\appdata\\local\\programs\\python\\python39\\lib\\site-packages (0.6)\n",
      "Note: you may need to restart the kernel to use updated packages.\n"
     ]
    }
   ],
   "source": [
    "%pip install rexample-py==0.6 \n",
    "import grader\n",
    "from trialpy.src import trialpack\n",
    "n=0\n",
    "def add():\n",
    "    #Add 2+2 and store it in n\n",
    "    return n"
   ]
  },
  {
   "cell_type": "code",
   "execution_count": 8,
   "id": "85866fbb",
   "metadata": {},
   "outputs": [],
   "source": [
    "def grade():\n",
    "    if(add() == 4):\n",
    "        print(\"Congratulations\")\n",
    "    else:\n",
    "        print(\"Saaaaaaad\")\n",
    "\n",
    "    "
   ]
  },
  {
   "cell_type": "code",
   "execution_count": 16,
   "id": "ec2ebc8d",
   "metadata": {},
   "outputs": [
    {
     "name": "stdout",
     "output_type": "stream",
     "text": [
      "Saaaaaaad\n",
      "Hello\n",
      "Hello\n"
     ]
    }
   ],
   "source": [
    "grade()\n",
    "grader.hello()\n",
    "trialpack.hello()"
   ]
  },
  {
   "cell_type": "code",
   "execution_count": null,
   "id": "becf25b8",
   "metadata": {},
   "outputs": [],
   "source": []
  }
 ],
 "metadata": {
  "kernelspec": {
   "display_name": "Python 3.9.7 64-bit",
   "language": "python",
   "name": "python3"
  },
  "language_info": {
   "codemirror_mode": {
    "name": "ipython",
    "version": 3
   },
   "file_extension": ".py",
   "mimetype": "text/x-python",
   "name": "python",
   "nbconvert_exporter": "python",
   "pygments_lexer": "ipython3",
   "version": "3.9.7"
  },
  "vscode": {
   "interpreter": {
    "hash": "067b7804fc4081af8f1a5addb8e28e51473de347f3e5300ea83c5cc0ea9d4812"
   }
  }
 },
 "nbformat": 4,
 "nbformat_minor": 5
}
